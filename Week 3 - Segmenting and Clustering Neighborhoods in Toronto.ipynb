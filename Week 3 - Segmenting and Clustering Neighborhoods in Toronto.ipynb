{
 "cells": [
  {
   "cell_type": "markdown",
   "metadata": {},
   "source": [
    "import library pandas, numpy"
   ]
  },
  {
   "cell_type": "code",
   "execution_count": 17,
   "metadata": {},
   "outputs": [],
   "source": [
    "import pandas as pd\n",
    "import numpy as np"
   ]
  },
  {
   "cell_type": "markdown",
   "metadata": {},
   "source": [
    "read the wikipedia link using pandas"
   ]
  },
  {
   "cell_type": "code",
   "execution_count": 18,
   "metadata": {},
   "outputs": [],
   "source": [
    "list=pd.read_html('http://en.wikipedia.org/wiki/List_of_postal_codes_of_Canada:_M')"
   ]
  },
  {
   "cell_type": "markdown",
   "metadata": {},
   "source": [
    "select the first dataframe because this is the table we are working on"
   ]
  },
  {
   "cell_type": "code",
   "execution_count": 19,
   "metadata": {},
   "outputs": [],
   "source": [
    "df1=list[0]"
   ]
  },
  {
   "cell_type": "markdown",
   "metadata": {},
   "source": [
    "Review our dataframe"
   ]
  },
  {
   "cell_type": "code",
   "execution_count": 20,
   "metadata": {},
   "outputs": [
    {
     "data": {
      "text/html": [
       "<div>\n",
       "<style scoped>\n",
       "    .dataframe tbody tr th:only-of-type {\n",
       "        vertical-align: middle;\n",
       "    }\n",
       "\n",
       "    .dataframe tbody tr th {\n",
       "        vertical-align: top;\n",
       "    }\n",
       "\n",
       "    .dataframe thead th {\n",
       "        text-align: right;\n",
       "    }\n",
       "</style>\n",
       "<table border=\"1\" class=\"dataframe\">\n",
       "  <thead>\n",
       "    <tr style=\"text-align: right;\">\n",
       "      <th></th>\n",
       "      <th>Postcode</th>\n",
       "      <th>Borough</th>\n",
       "      <th>Neighbourhood</th>\n",
       "    </tr>\n",
       "  </thead>\n",
       "  <tbody>\n",
       "    <tr>\n",
       "      <td>0</td>\n",
       "      <td>M1A</td>\n",
       "      <td>Not assigned</td>\n",
       "      <td>Not assigned</td>\n",
       "    </tr>\n",
       "    <tr>\n",
       "      <td>1</td>\n",
       "      <td>M2A</td>\n",
       "      <td>Not assigned</td>\n",
       "      <td>Not assigned</td>\n",
       "    </tr>\n",
       "    <tr>\n",
       "      <td>2</td>\n",
       "      <td>M3A</td>\n",
       "      <td>North York</td>\n",
       "      <td>Parkwoods</td>\n",
       "    </tr>\n",
       "    <tr>\n",
       "      <td>3</td>\n",
       "      <td>M4A</td>\n",
       "      <td>North York</td>\n",
       "      <td>Victoria Village</td>\n",
       "    </tr>\n",
       "    <tr>\n",
       "      <td>4</td>\n",
       "      <td>M5A</td>\n",
       "      <td>Downtown Toronto</td>\n",
       "      <td>Harbourfront</td>\n",
       "    </tr>\n",
       "  </tbody>\n",
       "</table>\n",
       "</div>"
      ],
      "text/plain": [
       "  Postcode           Borough     Neighbourhood\n",
       "0      M1A      Not assigned      Not assigned\n",
       "1      M2A      Not assigned      Not assigned\n",
       "2      M3A        North York         Parkwoods\n",
       "3      M4A        North York  Victoria Village\n",
       "4      M5A  Downtown Toronto      Harbourfront"
      ]
     },
     "execution_count": 20,
     "metadata": {},
     "output_type": "execute_result"
    }
   ],
   "source": [
    "df1.head()"
   ]
  },
  {
   "cell_type": "markdown",
   "metadata": {},
   "source": [
    "create a new dataframe which remove all \"Not assigned\" lines in column \"Borough\""
   ]
  },
  {
   "cell_type": "code",
   "execution_count": 21,
   "metadata": {},
   "outputs": [],
   "source": [
    "df_canada=df1[~df1['Borough'].str.contains('Not assigned')]"
   ]
  },
  {
   "cell_type": "markdown",
   "metadata": {},
   "source": [
    "reset index"
   ]
  },
  {
   "cell_type": "code",
   "execution_count": 22,
   "metadata": {},
   "outputs": [],
   "source": [
    "df_canada.reset_index(drop=True,inplace=True)"
   ]
  },
  {
   "cell_type": "markdown",
   "metadata": {},
   "source": [
    "check the shape of current dataframe"
   ]
  },
  {
   "cell_type": "code",
   "execution_count": 23,
   "metadata": {},
   "outputs": [
    {
     "data": {
      "text/plain": [
       "(210, 3)"
      ]
     },
     "execution_count": 23,
     "metadata": {},
     "output_type": "execute_result"
    }
   ],
   "source": [
    "df_canada.shape"
   ]
  },
  {
   "cell_type": "markdown",
   "metadata": {},
   "source": [
    "check total row"
   ]
  },
  {
   "cell_type": "code",
   "execution_count": 24,
   "metadata": {},
   "outputs": [
    {
     "data": {
      "text/plain": [
       "210"
      ]
     },
     "execution_count": 24,
     "metadata": {},
     "output_type": "execute_result"
    }
   ],
   "source": [
    "len(df_canada.index)"
   ]
  },
  {
   "cell_type": "markdown",
   "metadata": {},
   "source": [
    "Replace all 'Not assigned' value in column Neighbourhood and replace with the value in Borough"
   ]
  },
  {
   "cell_type": "code",
   "execution_count": 25,
   "metadata": {},
   "outputs": [],
   "source": [
    "for i in range (len(df_canada.index)):\n",
    "    if df_canada['Neighbourhood'][i]==('Not assigned'):\n",
    "        df_canada.replace(df_canada.loc[i,['Neighbourhood']],df_canada['Borough'][i],inplace=True)"
   ]
  },
  {
   "cell_type": "markdown",
   "metadata": {},
   "source": [
    "Review our dataframe"
   ]
  },
  {
   "cell_type": "code",
   "execution_count": 26,
   "metadata": {},
   "outputs": [
    {
     "data": {
      "text/html": [
       "<div>\n",
       "<style scoped>\n",
       "    .dataframe tbody tr th:only-of-type {\n",
       "        vertical-align: middle;\n",
       "    }\n",
       "\n",
       "    .dataframe tbody tr th {\n",
       "        vertical-align: top;\n",
       "    }\n",
       "\n",
       "    .dataframe thead th {\n",
       "        text-align: right;\n",
       "    }\n",
       "</style>\n",
       "<table border=\"1\" class=\"dataframe\">\n",
       "  <thead>\n",
       "    <tr style=\"text-align: right;\">\n",
       "      <th></th>\n",
       "      <th>Postcode</th>\n",
       "      <th>Borough</th>\n",
       "      <th>Neighbourhood</th>\n",
       "    </tr>\n",
       "  </thead>\n",
       "  <tbody>\n",
       "    <tr>\n",
       "      <td>0</td>\n",
       "      <td>M3A</td>\n",
       "      <td>North York</td>\n",
       "      <td>Parkwoods</td>\n",
       "    </tr>\n",
       "    <tr>\n",
       "      <td>1</td>\n",
       "      <td>M4A</td>\n",
       "      <td>North York</td>\n",
       "      <td>Victoria Village</td>\n",
       "    </tr>\n",
       "    <tr>\n",
       "      <td>2</td>\n",
       "      <td>M5A</td>\n",
       "      <td>Downtown Toronto</td>\n",
       "      <td>Harbourfront</td>\n",
       "    </tr>\n",
       "    <tr>\n",
       "      <td>3</td>\n",
       "      <td>M6A</td>\n",
       "      <td>North York</td>\n",
       "      <td>Lawrence Heights</td>\n",
       "    </tr>\n",
       "    <tr>\n",
       "      <td>4</td>\n",
       "      <td>M6A</td>\n",
       "      <td>North York</td>\n",
       "      <td>Lawrence Manor</td>\n",
       "    </tr>\n",
       "    <tr>\n",
       "      <td>5</td>\n",
       "      <td>M7A</td>\n",
       "      <td>Downtown Toronto</td>\n",
       "      <td>Queen's Park</td>\n",
       "    </tr>\n",
       "    <tr>\n",
       "      <td>6</td>\n",
       "      <td>M9A</td>\n",
       "      <td>Queen's Park</td>\n",
       "      <td>Queen's Park</td>\n",
       "    </tr>\n",
       "  </tbody>\n",
       "</table>\n",
       "</div>"
      ],
      "text/plain": [
       "  Postcode           Borough     Neighbourhood\n",
       "0      M3A        North York         Parkwoods\n",
       "1      M4A        North York  Victoria Village\n",
       "2      M5A  Downtown Toronto      Harbourfront\n",
       "3      M6A        North York  Lawrence Heights\n",
       "4      M6A        North York    Lawrence Manor\n",
       "5      M7A  Downtown Toronto      Queen's Park\n",
       "6      M9A      Queen's Park      Queen's Park"
      ]
     },
     "execution_count": 26,
     "metadata": {},
     "output_type": "execute_result"
    }
   ],
   "source": [
    "df_canada.head(7)"
   ]
  },
  {
   "cell_type": "markdown",
   "metadata": {},
   "source": [
    "we may not need this but let sort column Postcode so every double, triple value are in continuous. And reset index"
   ]
  },
  {
   "cell_type": "code",
   "execution_count": 27,
   "metadata": {},
   "outputs": [],
   "source": [
    "df_canada2=df_canada.sort_values(by=['Postcode'])\n",
    "df_canada2.reset_index(drop=True,inplace=True)"
   ]
  },
  {
   "cell_type": "markdown",
   "metadata": {},
   "source": [
    "Join Neighbourhood with same Postcode"
   ]
  },
  {
   "cell_type": "code",
   "execution_count": 28,
   "metadata": {
    "scrolled": true
   },
   "outputs": [],
   "source": [
    "join_sign=' , '\n",
    "for i in range(1,len(df_canada.index)):\n",
    "    if df_canada2['Postcode'][i]==df_canada2['Postcode'][i-1]:\n",
    "        df_canada2.replace(df_canada2['Neighbourhood'][i],\n",
    "                          join_sign.join([df_canada2['Neighbourhood'][i],df_canada2['Neighbourhood'][i-1]]),\n",
    "                          inplace=True)"
   ]
  },
  {
   "cell_type": "markdown",
   "metadata": {},
   "source": [
    "Review dataframe"
   ]
  },
  {
   "cell_type": "code",
   "execution_count": 29,
   "metadata": {},
   "outputs": [
    {
     "data": {
      "text/html": [
       "<div>\n",
       "<style scoped>\n",
       "    .dataframe tbody tr th:only-of-type {\n",
       "        vertical-align: middle;\n",
       "    }\n",
       "\n",
       "    .dataframe tbody tr th {\n",
       "        vertical-align: top;\n",
       "    }\n",
       "\n",
       "    .dataframe thead th {\n",
       "        text-align: right;\n",
       "    }\n",
       "</style>\n",
       "<table border=\"1\" class=\"dataframe\">\n",
       "  <thead>\n",
       "    <tr style=\"text-align: right;\">\n",
       "      <th></th>\n",
       "      <th>Postcode</th>\n",
       "      <th>Borough</th>\n",
       "      <th>Neighbourhood</th>\n",
       "    </tr>\n",
       "  </thead>\n",
       "  <tbody>\n",
       "    <tr>\n",
       "      <td>0</td>\n",
       "      <td>M1B</td>\n",
       "      <td>Scarborough</td>\n",
       "      <td>Rouge</td>\n",
       "    </tr>\n",
       "    <tr>\n",
       "      <td>1</td>\n",
       "      <td>M1B</td>\n",
       "      <td>Scarborough</td>\n",
       "      <td>Malvern , Rouge</td>\n",
       "    </tr>\n",
       "    <tr>\n",
       "      <td>2</td>\n",
       "      <td>M1C</td>\n",
       "      <td>Scarborough</td>\n",
       "      <td>Port Union</td>\n",
       "    </tr>\n",
       "    <tr>\n",
       "      <td>3</td>\n",
       "      <td>M1C</td>\n",
       "      <td>Scarborough</td>\n",
       "      <td>Rouge Hill , Port Union</td>\n",
       "    </tr>\n",
       "    <tr>\n",
       "      <td>4</td>\n",
       "      <td>M1C</td>\n",
       "      <td>Scarborough</td>\n",
       "      <td>Highland Creek , Rouge Hill , Port Union</td>\n",
       "    </tr>\n",
       "    <tr>\n",
       "      <td>5</td>\n",
       "      <td>M1E</td>\n",
       "      <td>Scarborough</td>\n",
       "      <td>Guildwood</td>\n",
       "    </tr>\n",
       "    <tr>\n",
       "      <td>6</td>\n",
       "      <td>M1E</td>\n",
       "      <td>Scarborough</td>\n",
       "      <td>Morningside , Guildwood</td>\n",
       "    </tr>\n",
       "    <tr>\n",
       "      <td>7</td>\n",
       "      <td>M1E</td>\n",
       "      <td>Scarborough</td>\n",
       "      <td>West Hill , Morningside , Guildwood</td>\n",
       "    </tr>\n",
       "    <tr>\n",
       "      <td>8</td>\n",
       "      <td>M1G</td>\n",
       "      <td>Scarborough</td>\n",
       "      <td>Woburn</td>\n",
       "    </tr>\n",
       "    <tr>\n",
       "      <td>9</td>\n",
       "      <td>M1H</td>\n",
       "      <td>Scarborough</td>\n",
       "      <td>Cedarbrae</td>\n",
       "    </tr>\n",
       "    <tr>\n",
       "      <td>10</td>\n",
       "      <td>M1J</td>\n",
       "      <td>Scarborough</td>\n",
       "      <td>Scarborough Village</td>\n",
       "    </tr>\n",
       "  </tbody>\n",
       "</table>\n",
       "</div>"
      ],
      "text/plain": [
       "   Postcode      Borough                             Neighbourhood\n",
       "0       M1B  Scarborough                                     Rouge\n",
       "1       M1B  Scarborough                           Malvern , Rouge\n",
       "2       M1C  Scarborough                                Port Union\n",
       "3       M1C  Scarborough                   Rouge Hill , Port Union\n",
       "4       M1C  Scarborough  Highland Creek , Rouge Hill , Port Union\n",
       "5       M1E  Scarborough                                 Guildwood\n",
       "6       M1E  Scarborough                   Morningside , Guildwood\n",
       "7       M1E  Scarborough       West Hill , Morningside , Guildwood\n",
       "8       M1G  Scarborough                                    Woburn\n",
       "9       M1H  Scarborough                                 Cedarbrae\n",
       "10      M1J  Scarborough                       Scarborough Village"
      ]
     },
     "execution_count": 29,
     "metadata": {},
     "output_type": "execute_result"
    }
   ],
   "source": [
    "df_canada2.head(11)"
   ]
  },
  {
   "cell_type": "markdown",
   "metadata": {},
   "source": [
    "Drop double postcode value"
   ]
  },
  {
   "cell_type": "code",
   "execution_count": 30,
   "metadata": {},
   "outputs": [],
   "source": [
    "for i in range(0,len(df_canada2.index)-1):\n",
    "    if df_canada2['Postcode'][i]==df_canada2['Postcode'][i+1]:\n",
    "        df_canada2.drop([i],inplace=True)"
   ]
  },
  {
   "cell_type": "markdown",
   "metadata": {},
   "source": [
    "view our final dataframe"
   ]
  },
  {
   "cell_type": "code",
   "execution_count": 33,
   "metadata": {},
   "outputs": [
    {
     "data": {
      "text/html": [
       "<div>\n",
       "<style scoped>\n",
       "    .dataframe tbody tr th:only-of-type {\n",
       "        vertical-align: middle;\n",
       "    }\n",
       "\n",
       "    .dataframe tbody tr th {\n",
       "        vertical-align: top;\n",
       "    }\n",
       "\n",
       "    .dataframe thead th {\n",
       "        text-align: right;\n",
       "    }\n",
       "</style>\n",
       "<table border=\"1\" class=\"dataframe\">\n",
       "  <thead>\n",
       "    <tr style=\"text-align: right;\">\n",
       "      <th></th>\n",
       "      <th>Postcode</th>\n",
       "      <th>Borough</th>\n",
       "      <th>Neighbourhood</th>\n",
       "    </tr>\n",
       "  </thead>\n",
       "  <tbody>\n",
       "    <tr>\n",
       "      <td>0</td>\n",
       "      <td>M1B</td>\n",
       "      <td>Scarborough</td>\n",
       "      <td>Malvern , Rouge</td>\n",
       "    </tr>\n",
       "    <tr>\n",
       "      <td>1</td>\n",
       "      <td>M1C</td>\n",
       "      <td>Scarborough</td>\n",
       "      <td>Highland Creek , Rouge Hill , Port Union</td>\n",
       "    </tr>\n",
       "    <tr>\n",
       "      <td>2</td>\n",
       "      <td>M1E</td>\n",
       "      <td>Scarborough</td>\n",
       "      <td>West Hill , Morningside , Guildwood</td>\n",
       "    </tr>\n",
       "    <tr>\n",
       "      <td>3</td>\n",
       "      <td>M1G</td>\n",
       "      <td>Scarborough</td>\n",
       "      <td>Woburn</td>\n",
       "    </tr>\n",
       "    <tr>\n",
       "      <td>4</td>\n",
       "      <td>M1H</td>\n",
       "      <td>Scarborough</td>\n",
       "      <td>Cedarbrae</td>\n",
       "    </tr>\n",
       "    <tr>\n",
       "      <td>5</td>\n",
       "      <td>M1J</td>\n",
       "      <td>Scarborough</td>\n",
       "      <td>Scarborough Village</td>\n",
       "    </tr>\n",
       "    <tr>\n",
       "      <td>6</td>\n",
       "      <td>M1K</td>\n",
       "      <td>Scarborough</td>\n",
       "      <td>Kennedy Park , Ionview , East Birchmount Park</td>\n",
       "    </tr>\n",
       "    <tr>\n",
       "      <td>7</td>\n",
       "      <td>M1L</td>\n",
       "      <td>Scarborough</td>\n",
       "      <td>Clairlea , Oakridge , Golden Mile</td>\n",
       "    </tr>\n",
       "    <tr>\n",
       "      <td>8</td>\n",
       "      <td>M1M</td>\n",
       "      <td>Scarborough</td>\n",
       "      <td>Cliffside , Scarborough Village West , Cliffcrest</td>\n",
       "    </tr>\n",
       "    <tr>\n",
       "      <td>9</td>\n",
       "      <td>M1N</td>\n",
       "      <td>Scarborough</td>\n",
       "      <td>Birch Cliff , Cliffside West</td>\n",
       "    </tr>\n",
       "    <tr>\n",
       "      <td>10</td>\n",
       "      <td>M1P</td>\n",
       "      <td>Scarborough</td>\n",
       "      <td>Scarborough Town Centre , Dorset Park , Wexfor...</td>\n",
       "    </tr>\n",
       "  </tbody>\n",
       "</table>\n",
       "</div>"
      ],
      "text/plain": [
       "   Postcode      Borough                                      Neighbourhood\n",
       "0       M1B  Scarborough                                    Malvern , Rouge\n",
       "1       M1C  Scarborough           Highland Creek , Rouge Hill , Port Union\n",
       "2       M1E  Scarborough                West Hill , Morningside , Guildwood\n",
       "3       M1G  Scarborough                                             Woburn\n",
       "4       M1H  Scarborough                                          Cedarbrae\n",
       "5       M1J  Scarborough                                Scarborough Village\n",
       "6       M1K  Scarborough      Kennedy Park , Ionview , East Birchmount Park\n",
       "7       M1L  Scarborough                  Clairlea , Oakridge , Golden Mile\n",
       "8       M1M  Scarborough  Cliffside , Scarborough Village West , Cliffcrest\n",
       "9       M1N  Scarborough                       Birch Cliff , Cliffside West\n",
       "10      M1P  Scarborough  Scarborough Town Centre , Dorset Park , Wexfor..."
      ]
     },
     "execution_count": 33,
     "metadata": {},
     "output_type": "execute_result"
    }
   ],
   "source": [
    "df_canada2.reset_index(drop=True,inplace=True)\n",
    "df_canada2.head(11)"
   ]
  },
  {
   "cell_type": "markdown",
   "metadata": {},
   "source": [
    "check the shape of the final dataframe"
   ]
  },
  {
   "cell_type": "code",
   "execution_count": 34,
   "metadata": {},
   "outputs": [
    {
     "data": {
      "text/plain": [
       "(103, 3)"
      ]
     },
     "execution_count": 34,
     "metadata": {},
     "output_type": "execute_result"
    }
   ],
   "source": [
    "df_canada2.shape"
   ]
  },
  {
   "cell_type": "markdown",
   "metadata": {},
   "source": [
    "read geo data"
   ]
  },
  {
   "cell_type": "code",
   "execution_count": 40,
   "metadata": {},
   "outputs": [],
   "source": [
    "df_geo=pd.read_csv('https://cocl.us/Geospatial_data')"
   ]
  },
  {
   "cell_type": "markdown",
   "metadata": {},
   "source": [
    "review geo dataframe"
   ]
  },
  {
   "cell_type": "code",
   "execution_count": 42,
   "metadata": {},
   "outputs": [
    {
     "data": {
      "text/html": [
       "<div>\n",
       "<style scoped>\n",
       "    .dataframe tbody tr th:only-of-type {\n",
       "        vertical-align: middle;\n",
       "    }\n",
       "\n",
       "    .dataframe tbody tr th {\n",
       "        vertical-align: top;\n",
       "    }\n",
       "\n",
       "    .dataframe thead th {\n",
       "        text-align: right;\n",
       "    }\n",
       "</style>\n",
       "<table border=\"1\" class=\"dataframe\">\n",
       "  <thead>\n",
       "    <tr style=\"text-align: right;\">\n",
       "      <th></th>\n",
       "      <th>Postal Code</th>\n",
       "      <th>Latitude</th>\n",
       "      <th>Longitude</th>\n",
       "    </tr>\n",
       "  </thead>\n",
       "  <tbody>\n",
       "    <tr>\n",
       "      <td>0</td>\n",
       "      <td>M1B</td>\n",
       "      <td>43.806686</td>\n",
       "      <td>-79.194353</td>\n",
       "    </tr>\n",
       "    <tr>\n",
       "      <td>1</td>\n",
       "      <td>M1C</td>\n",
       "      <td>43.784535</td>\n",
       "      <td>-79.160497</td>\n",
       "    </tr>\n",
       "    <tr>\n",
       "      <td>2</td>\n",
       "      <td>M1E</td>\n",
       "      <td>43.763573</td>\n",
       "      <td>-79.188711</td>\n",
       "    </tr>\n",
       "    <tr>\n",
       "      <td>3</td>\n",
       "      <td>M1G</td>\n",
       "      <td>43.770992</td>\n",
       "      <td>-79.216917</td>\n",
       "    </tr>\n",
       "    <tr>\n",
       "      <td>4</td>\n",
       "      <td>M1H</td>\n",
       "      <td>43.773136</td>\n",
       "      <td>-79.239476</td>\n",
       "    </tr>\n",
       "  </tbody>\n",
       "</table>\n",
       "</div>"
      ],
      "text/plain": [
       "  Postal Code   Latitude  Longitude\n",
       "0         M1B  43.806686 -79.194353\n",
       "1         M1C  43.784535 -79.160497\n",
       "2         M1E  43.763573 -79.188711\n",
       "3         M1G  43.770992 -79.216917\n",
       "4         M1H  43.773136 -79.239476"
      ]
     },
     "execution_count": 42,
     "metadata": {},
     "output_type": "execute_result"
    }
   ],
   "source": [
    "df_geo.head()"
   ]
  },
  {
   "cell_type": "markdown",
   "metadata": {},
   "source": [
    "Create new data from dataframe canada and geo"
   ]
  },
  {
   "cell_type": "code",
   "execution_count": 45,
   "metadata": {},
   "outputs": [],
   "source": [
    "df_canada_geo=pd.merge(df_canada2,df_geo,how='left',left_on='Postcode',right_on='Postal Code')"
   ]
  },
  {
   "cell_type": "code",
   "execution_count": 47,
   "metadata": {},
   "outputs": [
    {
     "data": {
      "text/html": [
       "<div>\n",
       "<style scoped>\n",
       "    .dataframe tbody tr th:only-of-type {\n",
       "        vertical-align: middle;\n",
       "    }\n",
       "\n",
       "    .dataframe tbody tr th {\n",
       "        vertical-align: top;\n",
       "    }\n",
       "\n",
       "    .dataframe thead th {\n",
       "        text-align: right;\n",
       "    }\n",
       "</style>\n",
       "<table border=\"1\" class=\"dataframe\">\n",
       "  <thead>\n",
       "    <tr style=\"text-align: right;\">\n",
       "      <th></th>\n",
       "      <th>Postcode</th>\n",
       "      <th>Borough</th>\n",
       "      <th>Neighbourhood</th>\n",
       "      <th>Postal Code</th>\n",
       "      <th>Latitude</th>\n",
       "      <th>Longitude</th>\n",
       "    </tr>\n",
       "  </thead>\n",
       "  <tbody>\n",
       "    <tr>\n",
       "      <td>0</td>\n",
       "      <td>M1B</td>\n",
       "      <td>Scarborough</td>\n",
       "      <td>Malvern , Rouge</td>\n",
       "      <td>M1B</td>\n",
       "      <td>43.806686</td>\n",
       "      <td>-79.194353</td>\n",
       "    </tr>\n",
       "    <tr>\n",
       "      <td>1</td>\n",
       "      <td>M1C</td>\n",
       "      <td>Scarborough</td>\n",
       "      <td>Highland Creek , Rouge Hill , Port Union</td>\n",
       "      <td>M1C</td>\n",
       "      <td>43.784535</td>\n",
       "      <td>-79.160497</td>\n",
       "    </tr>\n",
       "    <tr>\n",
       "      <td>2</td>\n",
       "      <td>M1E</td>\n",
       "      <td>Scarborough</td>\n",
       "      <td>West Hill , Morningside , Guildwood</td>\n",
       "      <td>M1E</td>\n",
       "      <td>43.763573</td>\n",
       "      <td>-79.188711</td>\n",
       "    </tr>\n",
       "    <tr>\n",
       "      <td>3</td>\n",
       "      <td>M1G</td>\n",
       "      <td>Scarborough</td>\n",
       "      <td>Woburn</td>\n",
       "      <td>M1G</td>\n",
       "      <td>43.770992</td>\n",
       "      <td>-79.216917</td>\n",
       "    </tr>\n",
       "    <tr>\n",
       "      <td>4</td>\n",
       "      <td>M1H</td>\n",
       "      <td>Scarborough</td>\n",
       "      <td>Cedarbrae</td>\n",
       "      <td>M1H</td>\n",
       "      <td>43.773136</td>\n",
       "      <td>-79.239476</td>\n",
       "    </tr>\n",
       "  </tbody>\n",
       "</table>\n",
       "</div>"
      ],
      "text/plain": [
       "  Postcode      Borough                             Neighbourhood Postal Code  \\\n",
       "0      M1B  Scarborough                           Malvern , Rouge         M1B   \n",
       "1      M1C  Scarborough  Highland Creek , Rouge Hill , Port Union         M1C   \n",
       "2      M1E  Scarborough       West Hill , Morningside , Guildwood         M1E   \n",
       "3      M1G  Scarborough                                    Woburn         M1G   \n",
       "4      M1H  Scarborough                                 Cedarbrae         M1H   \n",
       "\n",
       "    Latitude  Longitude  \n",
       "0  43.806686 -79.194353  \n",
       "1  43.784535 -79.160497  \n",
       "2  43.763573 -79.188711  \n",
       "3  43.770992 -79.216917  \n",
       "4  43.773136 -79.239476  "
      ]
     },
     "execution_count": 47,
     "metadata": {},
     "output_type": "execute_result"
    }
   ],
   "source": [
    "df_canada_geo.head()"
   ]
  },
  {
   "cell_type": "code",
   "execution_count": 55,
   "metadata": {},
   "outputs": [
    {
     "data": {
      "text/html": [
       "<div>\n",
       "<style scoped>\n",
       "    .dataframe tbody tr th:only-of-type {\n",
       "        vertical-align: middle;\n",
       "    }\n",
       "\n",
       "    .dataframe tbody tr th {\n",
       "        vertical-align: top;\n",
       "    }\n",
       "\n",
       "    .dataframe thead th {\n",
       "        text-align: right;\n",
       "    }\n",
       "</style>\n",
       "<table border=\"1\" class=\"dataframe\">\n",
       "  <thead>\n",
       "    <tr style=\"text-align: right;\">\n",
       "      <th></th>\n",
       "      <th>Postcode</th>\n",
       "      <th>Borough</th>\n",
       "      <th>Neighbourhood</th>\n",
       "      <th>Latitude</th>\n",
       "      <th>Longitude</th>\n",
       "    </tr>\n",
       "  </thead>\n",
       "  <tbody>\n",
       "    <tr>\n",
       "      <td>0</td>\n",
       "      <td>M1B</td>\n",
       "      <td>Scarborough</td>\n",
       "      <td>Malvern , Rouge</td>\n",
       "      <td>43.806686</td>\n",
       "      <td>-79.194353</td>\n",
       "    </tr>\n",
       "    <tr>\n",
       "      <td>1</td>\n",
       "      <td>M1C</td>\n",
       "      <td>Scarborough</td>\n",
       "      <td>Highland Creek , Rouge Hill , Port Union</td>\n",
       "      <td>43.784535</td>\n",
       "      <td>-79.160497</td>\n",
       "    </tr>\n",
       "    <tr>\n",
       "      <td>2</td>\n",
       "      <td>M1E</td>\n",
       "      <td>Scarborough</td>\n",
       "      <td>West Hill , Morningside , Guildwood</td>\n",
       "      <td>43.763573</td>\n",
       "      <td>-79.188711</td>\n",
       "    </tr>\n",
       "    <tr>\n",
       "      <td>3</td>\n",
       "      <td>M1G</td>\n",
       "      <td>Scarborough</td>\n",
       "      <td>Woburn</td>\n",
       "      <td>43.770992</td>\n",
       "      <td>-79.216917</td>\n",
       "    </tr>\n",
       "    <tr>\n",
       "      <td>4</td>\n",
       "      <td>M1H</td>\n",
       "      <td>Scarborough</td>\n",
       "      <td>Cedarbrae</td>\n",
       "      <td>43.773136</td>\n",
       "      <td>-79.239476</td>\n",
       "    </tr>\n",
       "  </tbody>\n",
       "</table>\n",
       "</div>"
      ],
      "text/plain": [
       "  Postcode      Borough                             Neighbourhood   Latitude  \\\n",
       "0      M1B  Scarborough                           Malvern , Rouge  43.806686   \n",
       "1      M1C  Scarborough  Highland Creek , Rouge Hill , Port Union  43.784535   \n",
       "2      M1E  Scarborough       West Hill , Morningside , Guildwood  43.763573   \n",
       "3      M1G  Scarborough                                    Woburn  43.770992   \n",
       "4      M1H  Scarborough                                 Cedarbrae  43.773136   \n",
       "\n",
       "   Longitude  \n",
       "0 -79.194353  \n",
       "1 -79.160497  \n",
       "2 -79.188711  \n",
       "3 -79.216917  \n",
       "4 -79.239476  "
      ]
     },
     "execution_count": 55,
     "metadata": {},
     "output_type": "execute_result"
    }
   ],
   "source": [
    "df_final=df_canada_geo[['Postcode','Borough','Neighbourhood','Latitude','Longitude']]\n",
    "df_final.head()"
   ]
  },
  {
   "cell_type": "markdown",
   "metadata": {},
   "source": [
    "dataframe of Borough 'Toronto'"
   ]
  },
  {
   "cell_type": "code",
   "execution_count": 65,
   "metadata": {},
   "outputs": [
    {
     "data": {
      "text/html": [
       "<div>\n",
       "<style scoped>\n",
       "    .dataframe tbody tr th:only-of-type {\n",
       "        vertical-align: middle;\n",
       "    }\n",
       "\n",
       "    .dataframe tbody tr th {\n",
       "        vertical-align: top;\n",
       "    }\n",
       "\n",
       "    .dataframe thead th {\n",
       "        text-align: right;\n",
       "    }\n",
       "</style>\n",
       "<table border=\"1\" class=\"dataframe\">\n",
       "  <thead>\n",
       "    <tr style=\"text-align: right;\">\n",
       "      <th></th>\n",
       "      <th>Postcode</th>\n",
       "      <th>Borough</th>\n",
       "      <th>Neighbourhood</th>\n",
       "      <th>Latitude</th>\n",
       "      <th>Longitude</th>\n",
       "    </tr>\n",
       "  </thead>\n",
       "  <tbody>\n",
       "    <tr>\n",
       "      <td>37</td>\n",
       "      <td>M4E</td>\n",
       "      <td>East Toronto</td>\n",
       "      <td>The Beaches</td>\n",
       "      <td>43.676357</td>\n",
       "      <td>-79.293031</td>\n",
       "    </tr>\n",
       "    <tr>\n",
       "      <td>41</td>\n",
       "      <td>M4K</td>\n",
       "      <td>East Toronto</td>\n",
       "      <td>The Danforth West , Riverdale</td>\n",
       "      <td>43.679557</td>\n",
       "      <td>-79.352188</td>\n",
       "    </tr>\n",
       "    <tr>\n",
       "      <td>42</td>\n",
       "      <td>M4L</td>\n",
       "      <td>East Toronto</td>\n",
       "      <td>India Bazaar , The Beaches West</td>\n",
       "      <td>43.668999</td>\n",
       "      <td>-79.315572</td>\n",
       "    </tr>\n",
       "    <tr>\n",
       "      <td>43</td>\n",
       "      <td>M4M</td>\n",
       "      <td>East Toronto</td>\n",
       "      <td>Studio District</td>\n",
       "      <td>43.659526</td>\n",
       "      <td>-79.340923</td>\n",
       "    </tr>\n",
       "    <tr>\n",
       "      <td>44</td>\n",
       "      <td>M4N</td>\n",
       "      <td>Central Toronto</td>\n",
       "      <td>Lawrence Park</td>\n",
       "      <td>43.728020</td>\n",
       "      <td>-79.388790</td>\n",
       "    </tr>\n",
       "  </tbody>\n",
       "</table>\n",
       "</div>"
      ],
      "text/plain": [
       "   Postcode          Borough                    Neighbourhood   Latitude  \\\n",
       "37      M4E     East Toronto                      The Beaches  43.676357   \n",
       "41      M4K     East Toronto    The Danforth West , Riverdale  43.679557   \n",
       "42      M4L     East Toronto  India Bazaar , The Beaches West  43.668999   \n",
       "43      M4M     East Toronto                  Studio District  43.659526   \n",
       "44      M4N  Central Toronto                    Lawrence Park  43.728020   \n",
       "\n",
       "    Longitude  \n",
       "37 -79.293031  \n",
       "41 -79.352188  \n",
       "42 -79.315572  \n",
       "43 -79.340923  \n",
       "44 -79.388790  "
      ]
     },
     "execution_count": 65,
     "metadata": {},
     "output_type": "execute_result"
    }
   ],
   "source": [
    "df_toronto=df_final[df_final['Borough'].str.contains('Toronto')]\n",
    "df_toronto.head()"
   ]
  },
  {
   "cell_type": "markdown",
   "metadata": {},
   "source": [
    "import folium for using map rendering library"
   ]
  },
  {
   "cell_type": "code",
   "execution_count": 66,
   "metadata": {},
   "outputs": [],
   "source": [
    "import folium"
   ]
  },
  {
   "cell_type": "markdown",
   "metadata": {},
   "source": [
    "generate map and add marker"
   ]
  },
  {
   "cell_type": "code",
   "execution_count": 74,
   "metadata": {
    "scrolled": true
   },
   "outputs": [
    {
     "data": {
      "text/html": [
       "<div style=\"width:100%;\"><div style=\"position:relative;width:100%;height:0;padding-bottom:60%;\"><iframe src=\"data:text/html;charset=utf-8;base64,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\" style=\"position:absolute;width:100%;height:100%;left:0;top:0;border:none !important;\" allowfullscreen webkitallowfullscreen mozallowfullscreen></iframe></div></div>"
      ],
      "text/plain": [
       "<folium.folium.Map at 0xfbeb4d0>"
      ]
     },
     "execution_count": 74,
     "metadata": {},
     "output_type": "execute_result"
    }
   ],
   "source": [
    "map_toronto = folium.Map(location=[43.65, -79.38], zoom_start=10)\n",
    "for lat, lng, borough, neighborhood in zip(df_toronto['Latitude'], df_toronto['Longitude'], df_toronto['Borough'], df_toronto['Neighbourhood']):\n",
    "    label = '{}, {}'.format(neighborhood, borough)\n",
    "    label = folium.Popup(label, parse_html=True)\n",
    "    folium.CircleMarker(\n",
    "        [lat, lng],\n",
    "        radius=5,\n",
    "        popup=label,\n",
    "        color='blue',\n",
    "        fill=True,\n",
    "        fill_color='#3186cc',\n",
    "        fill_opacity=0.7,\n",
    "        parse_html=False).add_to(map_toronto)  \n",
    "    \n",
    "map_toronto"
   ]
  },
  {
   "cell_type": "code",
   "execution_count": null,
   "metadata": {},
   "outputs": [],
   "source": []
  }
 ],
 "metadata": {
  "kernelspec": {
   "display_name": "Python 3",
   "language": "python",
   "name": "python3"
  },
  "language_info": {
   "codemirror_mode": {
    "name": "ipython",
    "version": 3
   },
   "file_extension": ".py",
   "mimetype": "text/x-python",
   "name": "python",
   "nbconvert_exporter": "python",
   "pygments_lexer": "ipython3",
   "version": "3.6.8"
  }
 },
 "nbformat": 4,
 "nbformat_minor": 2
}
