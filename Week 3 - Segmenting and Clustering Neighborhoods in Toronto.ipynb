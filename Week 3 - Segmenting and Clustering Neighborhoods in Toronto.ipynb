{
 "cells": [
  {
   "cell_type": "markdown",
   "metadata": {},
   "source": [
    "import library pandas, numpy"
   ]
  },
  {
   "cell_type": "code",
   "execution_count": 17,
   "metadata": {},
   "outputs": [],
   "source": [
    "import pandas as pd\n",
    "import numpy as np"
   ]
  },
  {
   "cell_type": "markdown",
   "metadata": {},
   "source": [
    "read the wikipedia link using pandas"
   ]
  },
  {
   "cell_type": "code",
   "execution_count": 18,
   "metadata": {},
   "outputs": [],
   "source": [
    "list=pd.read_html('http://en.wikipedia.org/wiki/List_of_postal_codes_of_Canada:_M')"
   ]
  },
  {
   "cell_type": "markdown",
   "metadata": {},
   "source": [
    "select the first dataframe because this is the table we are working on"
   ]
  },
  {
   "cell_type": "code",
   "execution_count": 19,
   "metadata": {},
   "outputs": [],
   "source": [
    "df1=list[0]"
   ]
  },
  {
   "cell_type": "markdown",
   "metadata": {},
   "source": [
    "Review our dataframe"
   ]
  },
  {
   "cell_type": "code",
   "execution_count": 20,
   "metadata": {},
   "outputs": [
    {
     "data": {
      "text/html": [
       "<div>\n",
       "<style scoped>\n",
       "    .dataframe tbody tr th:only-of-type {\n",
       "        vertical-align: middle;\n",
       "    }\n",
       "\n",
       "    .dataframe tbody tr th {\n",
       "        vertical-align: top;\n",
       "    }\n",
       "\n",
       "    .dataframe thead th {\n",
       "        text-align: right;\n",
       "    }\n",
       "</style>\n",
       "<table border=\"1\" class=\"dataframe\">\n",
       "  <thead>\n",
       "    <tr style=\"text-align: right;\">\n",
       "      <th></th>\n",
       "      <th>Postcode</th>\n",
       "      <th>Borough</th>\n",
       "      <th>Neighbourhood</th>\n",
       "    </tr>\n",
       "  </thead>\n",
       "  <tbody>\n",
       "    <tr>\n",
       "      <td>0</td>\n",
       "      <td>M1A</td>\n",
       "      <td>Not assigned</td>\n",
       "      <td>Not assigned</td>\n",
       "    </tr>\n",
       "    <tr>\n",
       "      <td>1</td>\n",
       "      <td>M2A</td>\n",
       "      <td>Not assigned</td>\n",
       "      <td>Not assigned</td>\n",
       "    </tr>\n",
       "    <tr>\n",
       "      <td>2</td>\n",
       "      <td>M3A</td>\n",
       "      <td>North York</td>\n",
       "      <td>Parkwoods</td>\n",
       "    </tr>\n",
       "    <tr>\n",
       "      <td>3</td>\n",
       "      <td>M4A</td>\n",
       "      <td>North York</td>\n",
       "      <td>Victoria Village</td>\n",
       "    </tr>\n",
       "    <tr>\n",
       "      <td>4</td>\n",
       "      <td>M5A</td>\n",
       "      <td>Downtown Toronto</td>\n",
       "      <td>Harbourfront</td>\n",
       "    </tr>\n",
       "  </tbody>\n",
       "</table>\n",
       "</div>"
      ],
      "text/plain": [
       "  Postcode           Borough     Neighbourhood\n",
       "0      M1A      Not assigned      Not assigned\n",
       "1      M2A      Not assigned      Not assigned\n",
       "2      M3A        North York         Parkwoods\n",
       "3      M4A        North York  Victoria Village\n",
       "4      M5A  Downtown Toronto      Harbourfront"
      ]
     },
     "execution_count": 20,
     "metadata": {},
     "output_type": "execute_result"
    }
   ],
   "source": [
    "df1.head()"
   ]
  },
  {
   "cell_type": "markdown",
   "metadata": {},
   "source": [
    "create a new dataframe which remove all \"Not assigned\" lines in column \"Borough\""
   ]
  },
  {
   "cell_type": "code",
   "execution_count": 21,
   "metadata": {},
   "outputs": [],
   "source": [
    "df_canada=df1[~df1['Borough'].str.contains('Not assigned')]"
   ]
  },
  {
   "cell_type": "markdown",
   "metadata": {},
   "source": [
    "reset index"
   ]
  },
  {
   "cell_type": "code",
   "execution_count": 22,
   "metadata": {},
   "outputs": [],
   "source": [
    "df_canada.reset_index(drop=True,inplace=True)"
   ]
  },
  {
   "cell_type": "markdown",
   "metadata": {},
   "source": [
    "check the shape of current dataframe"
   ]
  },
  {
   "cell_type": "code",
   "execution_count": 23,
   "metadata": {},
   "outputs": [
    {
     "data": {
      "text/plain": [
       "(210, 3)"
      ]
     },
     "execution_count": 23,
     "metadata": {},
     "output_type": "execute_result"
    }
   ],
   "source": [
    "df_canada.shape"
   ]
  },
  {
   "cell_type": "markdown",
   "metadata": {},
   "source": [
    "check total row"
   ]
  },
  {
   "cell_type": "code",
   "execution_count": 24,
   "metadata": {},
   "outputs": [
    {
     "data": {
      "text/plain": [
       "210"
      ]
     },
     "execution_count": 24,
     "metadata": {},
     "output_type": "execute_result"
    }
   ],
   "source": [
    "len(df_canada.index)"
   ]
  },
  {
   "cell_type": "markdown",
   "metadata": {},
   "source": [
    "Replace all 'Not assigned' value in column Neighbourhood and replace with the value in Borough"
   ]
  },
  {
   "cell_type": "code",
   "execution_count": 25,
   "metadata": {},
   "outputs": [],
   "source": [
    "for i in range (len(df_canada.index)):\n",
    "    if df_canada['Neighbourhood'][i]==('Not assigned'):\n",
    "        df_canada.replace(df_canada.loc[i,['Neighbourhood']],df_canada['Borough'][i],inplace=True)"
   ]
  },
  {
   "cell_type": "markdown",
   "metadata": {},
   "source": [
    "Review our dataframe"
   ]
  },
  {
   "cell_type": "code",
   "execution_count": 26,
   "metadata": {},
   "outputs": [
    {
     "data": {
      "text/html": [
       "<div>\n",
       "<style scoped>\n",
       "    .dataframe tbody tr th:only-of-type {\n",
       "        vertical-align: middle;\n",
       "    }\n",
       "\n",
       "    .dataframe tbody tr th {\n",
       "        vertical-align: top;\n",
       "    }\n",
       "\n",
       "    .dataframe thead th {\n",
       "        text-align: right;\n",
       "    }\n",
       "</style>\n",
       "<table border=\"1\" class=\"dataframe\">\n",
       "  <thead>\n",
       "    <tr style=\"text-align: right;\">\n",
       "      <th></th>\n",
       "      <th>Postcode</th>\n",
       "      <th>Borough</th>\n",
       "      <th>Neighbourhood</th>\n",
       "    </tr>\n",
       "  </thead>\n",
       "  <tbody>\n",
       "    <tr>\n",
       "      <td>0</td>\n",
       "      <td>M3A</td>\n",
       "      <td>North York</td>\n",
       "      <td>Parkwoods</td>\n",
       "    </tr>\n",
       "    <tr>\n",
       "      <td>1</td>\n",
       "      <td>M4A</td>\n",
       "      <td>North York</td>\n",
       "      <td>Victoria Village</td>\n",
       "    </tr>\n",
       "    <tr>\n",
       "      <td>2</td>\n",
       "      <td>M5A</td>\n",
       "      <td>Downtown Toronto</td>\n",
       "      <td>Harbourfront</td>\n",
       "    </tr>\n",
       "    <tr>\n",
       "      <td>3</td>\n",
       "      <td>M6A</td>\n",
       "      <td>North York</td>\n",
       "      <td>Lawrence Heights</td>\n",
       "    </tr>\n",
       "    <tr>\n",
       "      <td>4</td>\n",
       "      <td>M6A</td>\n",
       "      <td>North York</td>\n",
       "      <td>Lawrence Manor</td>\n",
       "    </tr>\n",
       "    <tr>\n",
       "      <td>5</td>\n",
       "      <td>M7A</td>\n",
       "      <td>Downtown Toronto</td>\n",
       "      <td>Queen's Park</td>\n",
       "    </tr>\n",
       "    <tr>\n",
       "      <td>6</td>\n",
       "      <td>M9A</td>\n",
       "      <td>Queen's Park</td>\n",
       "      <td>Queen's Park</td>\n",
       "    </tr>\n",
       "  </tbody>\n",
       "</table>\n",
       "</div>"
      ],
      "text/plain": [
       "  Postcode           Borough     Neighbourhood\n",
       "0      M3A        North York         Parkwoods\n",
       "1      M4A        North York  Victoria Village\n",
       "2      M5A  Downtown Toronto      Harbourfront\n",
       "3      M6A        North York  Lawrence Heights\n",
       "4      M6A        North York    Lawrence Manor\n",
       "5      M7A  Downtown Toronto      Queen's Park\n",
       "6      M9A      Queen's Park      Queen's Park"
      ]
     },
     "execution_count": 26,
     "metadata": {},
     "output_type": "execute_result"
    }
   ],
   "source": [
    "df_canada.head(7)"
   ]
  },
  {
   "cell_type": "markdown",
   "metadata": {},
   "source": [
    "we may not need this but let sort column Postcode so every double, triple value are in continuous. And reset index"
   ]
  },
  {
   "cell_type": "code",
   "execution_count": 27,
   "metadata": {},
   "outputs": [],
   "source": [
    "df_canada2=df_canada.sort_values(by=['Postcode'])\n",
    "df_canada2.reset_index(drop=True,inplace=True)"
   ]
  },
  {
   "cell_type": "markdown",
   "metadata": {},
   "source": [
    "Join Neighbourhood with same Postcode"
   ]
  },
  {
   "cell_type": "code",
   "execution_count": 28,
   "metadata": {
    "scrolled": true
   },
   "outputs": [],
   "source": [
    "join_sign=' , '\n",
    "for i in range(1,len(df_canada.index)):\n",
    "    if df_canada2['Postcode'][i]==df_canada2['Postcode'][i-1]:\n",
    "        df_canada2.replace(df_canada2['Neighbourhood'][i],\n",
    "                          join_sign.join([df_canada2['Neighbourhood'][i],df_canada2['Neighbourhood'][i-1]]),\n",
    "                          inplace=True)"
   ]
  },
  {
   "cell_type": "markdown",
   "metadata": {},
   "source": [
    "Review dataframe"
   ]
  },
  {
   "cell_type": "code",
   "execution_count": 29,
   "metadata": {},
   "outputs": [
    {
     "data": {
      "text/html": [
       "<div>\n",
       "<style scoped>\n",
       "    .dataframe tbody tr th:only-of-type {\n",
       "        vertical-align: middle;\n",
       "    }\n",
       "\n",
       "    .dataframe tbody tr th {\n",
       "        vertical-align: top;\n",
       "    }\n",
       "\n",
       "    .dataframe thead th {\n",
       "        text-align: right;\n",
       "    }\n",
       "</style>\n",
       "<table border=\"1\" class=\"dataframe\">\n",
       "  <thead>\n",
       "    <tr style=\"text-align: right;\">\n",
       "      <th></th>\n",
       "      <th>Postcode</th>\n",
       "      <th>Borough</th>\n",
       "      <th>Neighbourhood</th>\n",
       "    </tr>\n",
       "  </thead>\n",
       "  <tbody>\n",
       "    <tr>\n",
       "      <td>0</td>\n",
       "      <td>M1B</td>\n",
       "      <td>Scarborough</td>\n",
       "      <td>Rouge</td>\n",
       "    </tr>\n",
       "    <tr>\n",
       "      <td>1</td>\n",
       "      <td>M1B</td>\n",
       "      <td>Scarborough</td>\n",
       "      <td>Malvern , Rouge</td>\n",
       "    </tr>\n",
       "    <tr>\n",
       "      <td>2</td>\n",
       "      <td>M1C</td>\n",
       "      <td>Scarborough</td>\n",
       "      <td>Port Union</td>\n",
       "    </tr>\n",
       "    <tr>\n",
       "      <td>3</td>\n",
       "      <td>M1C</td>\n",
       "      <td>Scarborough</td>\n",
       "      <td>Rouge Hill , Port Union</td>\n",
       "    </tr>\n",
       "    <tr>\n",
       "      <td>4</td>\n",
       "      <td>M1C</td>\n",
       "      <td>Scarborough</td>\n",
       "      <td>Highland Creek , Rouge Hill , Port Union</td>\n",
       "    </tr>\n",
       "    <tr>\n",
       "      <td>5</td>\n",
       "      <td>M1E</td>\n",
       "      <td>Scarborough</td>\n",
       "      <td>Guildwood</td>\n",
       "    </tr>\n",
       "    <tr>\n",
       "      <td>6</td>\n",
       "      <td>M1E</td>\n",
       "      <td>Scarborough</td>\n",
       "      <td>Morningside , Guildwood</td>\n",
       "    </tr>\n",
       "    <tr>\n",
       "      <td>7</td>\n",
       "      <td>M1E</td>\n",
       "      <td>Scarborough</td>\n",
       "      <td>West Hill , Morningside , Guildwood</td>\n",
       "    </tr>\n",
       "    <tr>\n",
       "      <td>8</td>\n",
       "      <td>M1G</td>\n",
       "      <td>Scarborough</td>\n",
       "      <td>Woburn</td>\n",
       "    </tr>\n",
       "    <tr>\n",
       "      <td>9</td>\n",
       "      <td>M1H</td>\n",
       "      <td>Scarborough</td>\n",
       "      <td>Cedarbrae</td>\n",
       "    </tr>\n",
       "    <tr>\n",
       "      <td>10</td>\n",
       "      <td>M1J</td>\n",
       "      <td>Scarborough</td>\n",
       "      <td>Scarborough Village</td>\n",
       "    </tr>\n",
       "  </tbody>\n",
       "</table>\n",
       "</div>"
      ],
      "text/plain": [
       "   Postcode      Borough                             Neighbourhood\n",
       "0       M1B  Scarborough                                     Rouge\n",
       "1       M1B  Scarborough                           Malvern , Rouge\n",
       "2       M1C  Scarborough                                Port Union\n",
       "3       M1C  Scarborough                   Rouge Hill , Port Union\n",
       "4       M1C  Scarborough  Highland Creek , Rouge Hill , Port Union\n",
       "5       M1E  Scarborough                                 Guildwood\n",
       "6       M1E  Scarborough                   Morningside , Guildwood\n",
       "7       M1E  Scarborough       West Hill , Morningside , Guildwood\n",
       "8       M1G  Scarborough                                    Woburn\n",
       "9       M1H  Scarborough                                 Cedarbrae\n",
       "10      M1J  Scarborough                       Scarborough Village"
      ]
     },
     "execution_count": 29,
     "metadata": {},
     "output_type": "execute_result"
    }
   ],
   "source": [
    "df_canada2.head(11)"
   ]
  },
  {
   "cell_type": "markdown",
   "metadata": {},
   "source": [
    "Drop double postcode value"
   ]
  },
  {
   "cell_type": "code",
   "execution_count": 30,
   "metadata": {},
   "outputs": [],
   "source": [
    "for i in range(0,len(df_canada2.index)-1):\n",
    "    if df_canada2['Postcode'][i]==df_canada2['Postcode'][i+1]:\n",
    "        df_canada2.drop([i],inplace=True)"
   ]
  },
  {
   "cell_type": "markdown",
   "metadata": {},
   "source": [
    "view our final dataframe"
   ]
  },
  {
   "cell_type": "code",
   "execution_count": 33,
   "metadata": {},
   "outputs": [
    {
     "data": {
      "text/html": [
       "<div>\n",
       "<style scoped>\n",
       "    .dataframe tbody tr th:only-of-type {\n",
       "        vertical-align: middle;\n",
       "    }\n",
       "\n",
       "    .dataframe tbody tr th {\n",
       "        vertical-align: top;\n",
       "    }\n",
       "\n",
       "    .dataframe thead th {\n",
       "        text-align: right;\n",
       "    }\n",
       "</style>\n",
       "<table border=\"1\" class=\"dataframe\">\n",
       "  <thead>\n",
       "    <tr style=\"text-align: right;\">\n",
       "      <th></th>\n",
       "      <th>Postcode</th>\n",
       "      <th>Borough</th>\n",
       "      <th>Neighbourhood</th>\n",
       "    </tr>\n",
       "  </thead>\n",
       "  <tbody>\n",
       "    <tr>\n",
       "      <td>0</td>\n",
       "      <td>M1B</td>\n",
       "      <td>Scarborough</td>\n",
       "      <td>Malvern , Rouge</td>\n",
       "    </tr>\n",
       "    <tr>\n",
       "      <td>1</td>\n",
       "      <td>M1C</td>\n",
       "      <td>Scarborough</td>\n",
       "      <td>Highland Creek , Rouge Hill , Port Union</td>\n",
       "    </tr>\n",
       "    <tr>\n",
       "      <td>2</td>\n",
       "      <td>M1E</td>\n",
       "      <td>Scarborough</td>\n",
       "      <td>West Hill , Morningside , Guildwood</td>\n",
       "    </tr>\n",
       "    <tr>\n",
       "      <td>3</td>\n",
       "      <td>M1G</td>\n",
       "      <td>Scarborough</td>\n",
       "      <td>Woburn</td>\n",
       "    </tr>\n",
       "    <tr>\n",
       "      <td>4</td>\n",
       "      <td>M1H</td>\n",
       "      <td>Scarborough</td>\n",
       "      <td>Cedarbrae</td>\n",
       "    </tr>\n",
       "    <tr>\n",
       "      <td>5</td>\n",
       "      <td>M1J</td>\n",
       "      <td>Scarborough</td>\n",
       "      <td>Scarborough Village</td>\n",
       "    </tr>\n",
       "    <tr>\n",
       "      <td>6</td>\n",
       "      <td>M1K</td>\n",
       "      <td>Scarborough</td>\n",
       "      <td>Kennedy Park , Ionview , East Birchmount Park</td>\n",
       "    </tr>\n",
       "    <tr>\n",
       "      <td>7</td>\n",
       "      <td>M1L</td>\n",
       "      <td>Scarborough</td>\n",
       "      <td>Clairlea , Oakridge , Golden Mile</td>\n",
       "    </tr>\n",
       "    <tr>\n",
       "      <td>8</td>\n",
       "      <td>M1M</td>\n",
       "      <td>Scarborough</td>\n",
       "      <td>Cliffside , Scarborough Village West , Cliffcrest</td>\n",
       "    </tr>\n",
       "    <tr>\n",
       "      <td>9</td>\n",
       "      <td>M1N</td>\n",
       "      <td>Scarborough</td>\n",
       "      <td>Birch Cliff , Cliffside West</td>\n",
       "    </tr>\n",
       "    <tr>\n",
       "      <td>10</td>\n",
       "      <td>M1P</td>\n",
       "      <td>Scarborough</td>\n",
       "      <td>Scarborough Town Centre , Dorset Park , Wexfor...</td>\n",
       "    </tr>\n",
       "  </tbody>\n",
       "</table>\n",
       "</div>"
      ],
      "text/plain": [
       "   Postcode      Borough                                      Neighbourhood\n",
       "0       M1B  Scarborough                                    Malvern , Rouge\n",
       "1       M1C  Scarborough           Highland Creek , Rouge Hill , Port Union\n",
       "2       M1E  Scarborough                West Hill , Morningside , Guildwood\n",
       "3       M1G  Scarborough                                             Woburn\n",
       "4       M1H  Scarborough                                          Cedarbrae\n",
       "5       M1J  Scarborough                                Scarborough Village\n",
       "6       M1K  Scarborough      Kennedy Park , Ionview , East Birchmount Park\n",
       "7       M1L  Scarborough                  Clairlea , Oakridge , Golden Mile\n",
       "8       M1M  Scarborough  Cliffside , Scarborough Village West , Cliffcrest\n",
       "9       M1N  Scarborough                       Birch Cliff , Cliffside West\n",
       "10      M1P  Scarborough  Scarborough Town Centre , Dorset Park , Wexfor..."
      ]
     },
     "execution_count": 33,
     "metadata": {},
     "output_type": "execute_result"
    }
   ],
   "source": [
    "df_canada2.reset_index(drop=True,inplace=True)\n",
    "df_canada2.head(11)"
   ]
  },
  {
   "cell_type": "markdown",
   "metadata": {},
   "source": [
    "check the shape of the final dataframe"
   ]
  },
  {
   "cell_type": "code",
   "execution_count": 34,
   "metadata": {},
   "outputs": [
    {
     "data": {
      "text/plain": [
       "(103, 3)"
      ]
     },
     "execution_count": 34,
     "metadata": {},
     "output_type": "execute_result"
    }
   ],
   "source": [
    "df_canada2.shape"
   ]
  },
  {
   "cell_type": "markdown",
   "metadata": {},
   "source": [
    "read geo data"
   ]
  },
  {
   "cell_type": "code",
   "execution_count": 40,
   "metadata": {},
   "outputs": [],
   "source": [
    "df_geo=pd.read_csv('https://cocl.us/Geospatial_data')"
   ]
  },
  {
   "cell_type": "markdown",
   "metadata": {},
   "source": [
    "review geo dataframe"
   ]
  },
  {
   "cell_type": "code",
   "execution_count": 42,
   "metadata": {},
   "outputs": [
    {
     "data": {
      "text/html": [
       "<div>\n",
       "<style scoped>\n",
       "    .dataframe tbody tr th:only-of-type {\n",
       "        vertical-align: middle;\n",
       "    }\n",
       "\n",
       "    .dataframe tbody tr th {\n",
       "        vertical-align: top;\n",
       "    }\n",
       "\n",
       "    .dataframe thead th {\n",
       "        text-align: right;\n",
       "    }\n",
       "</style>\n",
       "<table border=\"1\" class=\"dataframe\">\n",
       "  <thead>\n",
       "    <tr style=\"text-align: right;\">\n",
       "      <th></th>\n",
       "      <th>Postal Code</th>\n",
       "      <th>Latitude</th>\n",
       "      <th>Longitude</th>\n",
       "    </tr>\n",
       "  </thead>\n",
       "  <tbody>\n",
       "    <tr>\n",
       "      <td>0</td>\n",
       "      <td>M1B</td>\n",
       "      <td>43.806686</td>\n",
       "      <td>-79.194353</td>\n",
       "    </tr>\n",
       "    <tr>\n",
       "      <td>1</td>\n",
       "      <td>M1C</td>\n",
       "      <td>43.784535</td>\n",
       "      <td>-79.160497</td>\n",
       "    </tr>\n",
       "    <tr>\n",
       "      <td>2</td>\n",
       "      <td>M1E</td>\n",
       "      <td>43.763573</td>\n",
       "      <td>-79.188711</td>\n",
       "    </tr>\n",
       "    <tr>\n",
       "      <td>3</td>\n",
       "      <td>M1G</td>\n",
       "      <td>43.770992</td>\n",
       "      <td>-79.216917</td>\n",
       "    </tr>\n",
       "    <tr>\n",
       "      <td>4</td>\n",
       "      <td>M1H</td>\n",
       "      <td>43.773136</td>\n",
       "      <td>-79.239476</td>\n",
       "    </tr>\n",
       "  </tbody>\n",
       "</table>\n",
       "</div>"
      ],
      "text/plain": [
       "  Postal Code   Latitude  Longitude\n",
       "0         M1B  43.806686 -79.194353\n",
       "1         M1C  43.784535 -79.160497\n",
       "2         M1E  43.763573 -79.188711\n",
       "3         M1G  43.770992 -79.216917\n",
       "4         M1H  43.773136 -79.239476"
      ]
     },
     "execution_count": 42,
     "metadata": {},
     "output_type": "execute_result"
    }
   ],
   "source": [
    "df_geo.head()"
   ]
  },
  {
   "cell_type": "markdown",
   "metadata": {},
   "source": [
    "Create new data from dataframe canada and geo"
   ]
  },
  {
   "cell_type": "code",
   "execution_count": 45,
   "metadata": {},
   "outputs": [],
   "source": [
    "df_canada_geo=pd.merge(df_canada2,df_geo,how='left',left_on='Postcode',right_on='Postal Code')"
   ]
  },
  {
   "cell_type": "code",
   "execution_count": 47,
   "metadata": {},
   "outputs": [
    {
     "data": {
      "text/html": [
       "<div>\n",
       "<style scoped>\n",
       "    .dataframe tbody tr th:only-of-type {\n",
       "        vertical-align: middle;\n",
       "    }\n",
       "\n",
       "    .dataframe tbody tr th {\n",
       "        vertical-align: top;\n",
       "    }\n",
       "\n",
       "    .dataframe thead th {\n",
       "        text-align: right;\n",
       "    }\n",
       "</style>\n",
       "<table border=\"1\" class=\"dataframe\">\n",
       "  <thead>\n",
       "    <tr style=\"text-align: right;\">\n",
       "      <th></th>\n",
       "      <th>Postcode</th>\n",
       "      <th>Borough</th>\n",
       "      <th>Neighbourhood</th>\n",
       "      <th>Postal Code</th>\n",
       "      <th>Latitude</th>\n",
       "      <th>Longitude</th>\n",
       "    </tr>\n",
       "  </thead>\n",
       "  <tbody>\n",
       "    <tr>\n",
       "      <td>0</td>\n",
       "      <td>M1B</td>\n",
       "      <td>Scarborough</td>\n",
       "      <td>Malvern , Rouge</td>\n",
       "      <td>M1B</td>\n",
       "      <td>43.806686</td>\n",
       "      <td>-79.194353</td>\n",
       "    </tr>\n",
       "    <tr>\n",
       "      <td>1</td>\n",
       "      <td>M1C</td>\n",
       "      <td>Scarborough</td>\n",
       "      <td>Highland Creek , Rouge Hill , Port Union</td>\n",
       "      <td>M1C</td>\n",
       "      <td>43.784535</td>\n",
       "      <td>-79.160497</td>\n",
       "    </tr>\n",
       "    <tr>\n",
       "      <td>2</td>\n",
       "      <td>M1E</td>\n",
       "      <td>Scarborough</td>\n",
       "      <td>West Hill , Morningside , Guildwood</td>\n",
       "      <td>M1E</td>\n",
       "      <td>43.763573</td>\n",
       "      <td>-79.188711</td>\n",
       "    </tr>\n",
       "    <tr>\n",
       "      <td>3</td>\n",
       "      <td>M1G</td>\n",
       "      <td>Scarborough</td>\n",
       "      <td>Woburn</td>\n",
       "      <td>M1G</td>\n",
       "      <td>43.770992</td>\n",
       "      <td>-79.216917</td>\n",
       "    </tr>\n",
       "    <tr>\n",
       "      <td>4</td>\n",
       "      <td>M1H</td>\n",
       "      <td>Scarborough</td>\n",
       "      <td>Cedarbrae</td>\n",
       "      <td>M1H</td>\n",
       "      <td>43.773136</td>\n",
       "      <td>-79.239476</td>\n",
       "    </tr>\n",
       "  </tbody>\n",
       "</table>\n",
       "</div>"
      ],
      "text/plain": [
       "  Postcode      Borough                             Neighbourhood Postal Code  \\\n",
       "0      M1B  Scarborough                           Malvern , Rouge         M1B   \n",
       "1      M1C  Scarborough  Highland Creek , Rouge Hill , Port Union         M1C   \n",
       "2      M1E  Scarborough       West Hill , Morningside , Guildwood         M1E   \n",
       "3      M1G  Scarborough                                    Woburn         M1G   \n",
       "4      M1H  Scarborough                                 Cedarbrae         M1H   \n",
       "\n",
       "    Latitude  Longitude  \n",
       "0  43.806686 -79.194353  \n",
       "1  43.784535 -79.160497  \n",
       "2  43.763573 -79.188711  \n",
       "3  43.770992 -79.216917  \n",
       "4  43.773136 -79.239476  "
      ]
     },
     "execution_count": 47,
     "metadata": {},
     "output_type": "execute_result"
    }
   ],
   "source": [
    "df_canada_geo.head()"
   ]
  },
  {
   "cell_type": "code",
   "execution_count": 55,
   "metadata": {},
   "outputs": [
    {
     "data": {
      "text/html": [
       "<div>\n",
       "<style scoped>\n",
       "    .dataframe tbody tr th:only-of-type {\n",
       "        vertical-align: middle;\n",
       "    }\n",
       "\n",
       "    .dataframe tbody tr th {\n",
       "        vertical-align: top;\n",
       "    }\n",
       "\n",
       "    .dataframe thead th {\n",
       "        text-align: right;\n",
       "    }\n",
       "</style>\n",
       "<table border=\"1\" class=\"dataframe\">\n",
       "  <thead>\n",
       "    <tr style=\"text-align: right;\">\n",
       "      <th></th>\n",
       "      <th>Postcode</th>\n",
       "      <th>Borough</th>\n",
       "      <th>Neighbourhood</th>\n",
       "      <th>Latitude</th>\n",
       "      <th>Longitude</th>\n",
       "    </tr>\n",
       "  </thead>\n",
       "  <tbody>\n",
       "    <tr>\n",
       "      <td>0</td>\n",
       "      <td>M1B</td>\n",
       "      <td>Scarborough</td>\n",
       "      <td>Malvern , Rouge</td>\n",
       "      <td>43.806686</td>\n",
       "      <td>-79.194353</td>\n",
       "    </tr>\n",
       "    <tr>\n",
       "      <td>1</td>\n",
       "      <td>M1C</td>\n",
       "      <td>Scarborough</td>\n",
       "      <td>Highland Creek , Rouge Hill , Port Union</td>\n",
       "      <td>43.784535</td>\n",
       "      <td>-79.160497</td>\n",
       "    </tr>\n",
       "    <tr>\n",
       "      <td>2</td>\n",
       "      <td>M1E</td>\n",
       "      <td>Scarborough</td>\n",
       "      <td>West Hill , Morningside , Guildwood</td>\n",
       "      <td>43.763573</td>\n",
       "      <td>-79.188711</td>\n",
       "    </tr>\n",
       "    <tr>\n",
       "      <td>3</td>\n",
       "      <td>M1G</td>\n",
       "      <td>Scarborough</td>\n",
       "      <td>Woburn</td>\n",
       "      <td>43.770992</td>\n",
       "      <td>-79.216917</td>\n",
       "    </tr>\n",
       "    <tr>\n",
       "      <td>4</td>\n",
       "      <td>M1H</td>\n",
       "      <td>Scarborough</td>\n",
       "      <td>Cedarbrae</td>\n",
       "      <td>43.773136</td>\n",
       "      <td>-79.239476</td>\n",
       "    </tr>\n",
       "  </tbody>\n",
       "</table>\n",
       "</div>"
      ],
      "text/plain": [
       "  Postcode      Borough                             Neighbourhood   Latitude  \\\n",
       "0      M1B  Scarborough                           Malvern , Rouge  43.806686   \n",
       "1      M1C  Scarborough  Highland Creek , Rouge Hill , Port Union  43.784535   \n",
       "2      M1E  Scarborough       West Hill , Morningside , Guildwood  43.763573   \n",
       "3      M1G  Scarborough                                    Woburn  43.770992   \n",
       "4      M1H  Scarborough                                 Cedarbrae  43.773136   \n",
       "\n",
       "   Longitude  \n",
       "0 -79.194353  \n",
       "1 -79.160497  \n",
       "2 -79.188711  \n",
       "3 -79.216917  \n",
       "4 -79.239476  "
      ]
     },
     "execution_count": 55,
     "metadata": {},
     "output_type": "execute_result"
    }
   ],
   "source": [
    "df_final=df_canada_geo[['Postcode','Borough','Neighbourhood','Latitude','Longitude']]\n",
    "df_final.head()"
   ]
  },
  {
   "cell_type": "markdown",
   "metadata": {},
   "source": [
    "dataframe of Borough 'Toronto'"
   ]
  },
  {
   "cell_type": "code",
   "execution_count": 65,
   "metadata": {},
   "outputs": [
    {
     "data": {
      "text/html": [
       "<div>\n",
       "<style scoped>\n",
       "    .dataframe tbody tr th:only-of-type {\n",
       "        vertical-align: middle;\n",
       "    }\n",
       "\n",
       "    .dataframe tbody tr th {\n",
       "        vertical-align: top;\n",
       "    }\n",
       "\n",
       "    .dataframe thead th {\n",
       "        text-align: right;\n",
       "    }\n",
       "</style>\n",
       "<table border=\"1\" class=\"dataframe\">\n",
       "  <thead>\n",
       "    <tr style=\"text-align: right;\">\n",
       "      <th></th>\n",
       "      <th>Postcode</th>\n",
       "      <th>Borough</th>\n",
       "      <th>Neighbourhood</th>\n",
       "      <th>Latitude</th>\n",
       "      <th>Longitude</th>\n",
       "    </tr>\n",
       "  </thead>\n",
       "  <tbody>\n",
       "    <tr>\n",
       "      <td>37</td>\n",
       "      <td>M4E</td>\n",
       "      <td>East Toronto</td>\n",
       "      <td>The Beaches</td>\n",
       "      <td>43.676357</td>\n",
       "      <td>-79.293031</td>\n",
       "    </tr>\n",
       "    <tr>\n",
       "      <td>41</td>\n",
       "      <td>M4K</td>\n",
       "      <td>East Toronto</td>\n",
       "      <td>The Danforth West , Riverdale</td>\n",
       "      <td>43.679557</td>\n",
       "      <td>-79.352188</td>\n",
       "    </tr>\n",
       "    <tr>\n",
       "      <td>42</td>\n",
       "      <td>M4L</td>\n",
       "      <td>East Toronto</td>\n",
       "      <td>India Bazaar , The Beaches West</td>\n",
       "      <td>43.668999</td>\n",
       "      <td>-79.315572</td>\n",
       "    </tr>\n",
       "    <tr>\n",
       "      <td>43</td>\n",
       "      <td>M4M</td>\n",
       "      <td>East Toronto</td>\n",
       "      <td>Studio District</td>\n",
       "      <td>43.659526</td>\n",
       "      <td>-79.340923</td>\n",
       "    </tr>\n",
       "    <tr>\n",
       "      <td>44</td>\n",
       "      <td>M4N</td>\n",
       "      <td>Central Toronto</td>\n",
       "      <td>Lawrence Park</td>\n",
       "      <td>43.728020</td>\n",
       "      <td>-79.388790</td>\n",
       "    </tr>\n",
       "  </tbody>\n",
       "</table>\n",
       "</div>"
      ],
      "text/plain": [
       "   Postcode          Borough                    Neighbourhood   Latitude  \\\n",
       "37      M4E     East Toronto                      The Beaches  43.676357   \n",
       "41      M4K     East Toronto    The Danforth West , Riverdale  43.679557   \n",
       "42      M4L     East Toronto  India Bazaar , The Beaches West  43.668999   \n",
       "43      M4M     East Toronto                  Studio District  43.659526   \n",
       "44      M4N  Central Toronto                    Lawrence Park  43.728020   \n",
       "\n",
       "    Longitude  \n",
       "37 -79.293031  \n",
       "41 -79.352188  \n",
       "42 -79.315572  \n",
       "43 -79.340923  \n",
       "44 -79.388790  "
      ]
     },
     "execution_count": 65,
     "metadata": {},
     "output_type": "execute_result"
    }
   ],
   "source": [
    "df_toronto=df_final[df_final['Borough'].str.contains('Toronto')]\n",
    "df_toronto.head()"
   ]
  },
  {
   "cell_type": "code",
   "execution_count": 66,
   "metadata": {},
   "outputs": [],
   "source": [
    "import folium"
   ]
  },
  {
   "cell_type": "code",
   "execution_count": 73,
   "metadata": {
    "scrolled": true
   },
   "outputs": [
    {
     "data": {
      "text/html": [
       "<div style=\"width:100%;\"><div style=\"position:relative;width:100%;height:0;padding-bottom:60%;\"><iframe src=\"data:text/html;charset=utf-8;base64,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\" style=\"position:absolute;width:100%;height:100%;left:0;top:0;border:none !important;\" allowfullscreen webkitallowfullscreen mozallowfullscreen></iframe></div></div>"
      ],
      "text/plain": [
       "<folium.folium.Map at 0xfba03d0>"
      ]
     },
     "execution_count": 73,
     "metadata": {},
     "output_type": "execute_result"
    }
   ],
   "source": [
    "# create map of New York using latitude and longitude values\n",
    "map_toronto = folium.Map(location=[43.65, -79.38], zoom_start=10)\n",
    "\n",
    "# add markers to map\n",
    "for lat, lng, borough, neighborhood in zip(df_toronto['Latitude'], df_toronto['Longitude'], df_toronto['Borough'], df_toronto['Neighbourhood']):\n",
    "    label = '{}, {}'.format(neighborhood, borough)\n",
    "    label = folium.Popup(label, parse_html=True)\n",
    "    folium.CircleMarker(\n",
    "        [lat, lng],\n",
    "        radius=5,\n",
    "        popup=label,\n",
    "        color='blue',\n",
    "        fill=True,\n",
    "        fill_color='#3186cc',\n",
    "        fill_opacity=0.7,\n",
    "        parse_html=False).add_to(map_toronto)  \n",
    "    \n",
    "map_toronto"
   ]
  },
  {
   "cell_type": "code",
   "execution_count": null,
   "metadata": {},
   "outputs": [],
   "source": []
  }
 ],
 "metadata": {
  "kernelspec": {
   "display_name": "Python 3",
   "language": "python",
   "name": "python3"
  },
  "language_info": {
   "codemirror_mode": {
    "name": "ipython",
    "version": 3
   },
   "file_extension": ".py",
   "mimetype": "text/x-python",
   "name": "python",
   "nbconvert_exporter": "python",
   "pygments_lexer": "ipython3",
   "version": "3.6.8"
  }
 },
 "nbformat": 4,
 "nbformat_minor": 2
}
